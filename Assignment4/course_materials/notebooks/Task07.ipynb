{
 "cells": [
  {
   "cell_type": "markdown",
   "metadata": {
    "id": "nOOPLCHF7hLB"
   },
   "source": [
    "**Task 07: Querying RDF(s)**"
   ]
  },
  {
   "cell_type": "code",
   "execution_count": 1,
   "metadata": {
    "colab": {
     "base_uri": "https://localhost:8080/",
     "height": 211
    },
    "id": "Yl9npCt8n6m-",
    "outputId": "096014c0-f1ad-4bd6-bada-ab3561ff1367"
   },
   "outputs": [
    {
     "name": "stdout",
     "output_type": "stream",
     "text": [
      "Requirement already satisfied: rdflib in c:\\users\\jlope\\appdata\\local\\programs\\python\\python312\\lib\\site-packages (7.0.0)\n",
      "Requirement already satisfied: isodate<0.7.0,>=0.6.0 in c:\\users\\jlope\\appdata\\local\\programs\\python\\python312\\lib\\site-packages (from rdflib) (0.6.1)\n",
      "Requirement already satisfied: pyparsing<4,>=2.1.0 in c:\\users\\jlope\\appdata\\local\\programs\\python\\python312\\lib\\site-packages (from rdflib) (3.1.4)\n",
      "Requirement already satisfied: six in c:\\users\\jlope\\appdata\\roaming\\python\\python312\\site-packages (from isodate<0.7.0,>=0.6.0->rdflib) (1.16.0)\n"
     ]
    },
    {
     "name": "stderr",
     "output_type": "stream",
     "text": [
      "\n",
      "[notice] A new release of pip is available: 24.2 -> 24.3.1\n",
      "[notice] To update, run: python.exe -m pip install --upgrade pip\n"
     ]
    }
   ],
   "source": [
    "!pip install rdflib\n",
    "github_storage = \"https://raw.githubusercontent.com/FacultadInformatica-LinkedData/Curso2024-2025/master/Assignment4/course_materials\""
   ]
  },
  {
   "cell_type": "markdown",
   "metadata": {
    "id": "XY7aPc86Bqoo"
   },
   "source": [
    "First let's read the RDF file"
   ]
  },
  {
   "cell_type": "code",
   "execution_count": 5,
   "metadata": {
    "colab": {
     "base_uri": "https://localhost:8080/",
     "height": 35
    },
    "id": "9ERh415on7kF",
    "outputId": "395dc571-ef76-4330-cf4b-0b9db3aa5277"
   },
   "outputs": [
    {
     "data": {
      "text/plain": [
       "<Graph identifier=N831dc51fd63f428d9241a4bf35bdd95d (<class 'rdflib.graph.Graph'>)>"
      ]
     },
     "execution_count": 5,
     "metadata": {},
     "output_type": "execute_result"
    }
   ],
   "source": [
    "from rdflib import Graph, Namespace, Literal\n",
    "from rdflib.namespace import RDF, RDFS\n",
    "from rdflib.plugins.sparql import prepareQuery\n",
    "g = Graph()\n",
    "g.namespace_manager.bind('ns', Namespace(\"http://somewhere#\"), override=False)\n",
    "g.namespace_manager.bind('vcard', Namespace(\"http://www.w3.org/2001/vcard-rdf/3.0#\"), override=False)\n",
    "g.parse(github_storage+\"/rdf/example6.rdf\", format=\"xml\")"
   ]
  },
  {
   "cell_type": "markdown",
   "metadata": {
    "id": "qp1oe2Eddsvo"
   },
   "source": [
    "**TASK 7.1: List all subclasses of \"LivingThing\" with RDFLib and SPARQL**"
   ]
  },
  {
   "cell_type": "code",
   "execution_count": 8,
   "metadata": {
    "id": "tRcSWuMHOXBl"
   },
   "outputs": [
    {
     "name": "stdout",
     "output_type": "stream",
     "text": [
      "(rdflib.term.URIRef('http://somewhere#LivingThing'),)\n",
      "(rdflib.term.URIRef('http://somewhere#Person'),)\n",
      "(rdflib.term.URIRef('http://somewhere#Researcher'),)\n",
      "(rdflib.term.URIRef('http://somewhere#PhDstudent'),)\n",
      "(rdflib.term.URIRef('http://somewhere#Professor'),)\n",
      "(rdflib.term.URIRef('http://somewhere#Animal'),)\n"
     ]
    }
   ],
   "source": [
    "ns = Namespace(\"http://somewhere#\")\n",
    "task71 = prepareQuery(\n",
    "  '''\n",
    "  SELECT ?Subject WHERE {\n",
    "    ?Subject rdfs:subClassOf* ns:LivingThing.\n",
    "  }\n",
    "  ''',\n",
    "    initNs={'rdfs':RDFS, \"ns\":ns}\n",
    ")\n",
    "# Visualize the results\n",
    "\n",
    "for r in g.query(task71):\n",
    "  print(r)"
   ]
  },
  {
   "cell_type": "markdown",
   "metadata": {
    "id": "gM3DASkTQQ5Y"
   },
   "source": [
    "**TASK 7.2: List all individuals of \"Person\" with RDFLib and SPARQL (remember the subClasses)**\n"
   ]
  },
  {
   "cell_type": "code",
   "execution_count": 11,
   "metadata": {
    "id": "LiKSPHRzS-XJ"
   },
   "outputs": [
    {
     "name": "stdout",
     "output_type": "stream",
     "text": [
      "(rdflib.term.URIRef('http://somewhere#SaraJones'),)\n",
      "(rdflib.term.URIRef('http://somewhere#JohnSmith'),)\n",
      "(rdflib.term.URIRef('http://somewhere#JaneSmith'),)\n",
      "(rdflib.term.URIRef('http://somewhere#JimGonzalez'),)\n"
     ]
    }
   ],
   "source": [
    "task72 = prepareQuery(\n",
    "  '''\n",
    "  SELECT ?Subject WHERE {\n",
    "    ?Subject rdf:type ?class .\n",
    "    ?class rdfs:subClassOf* ns:Person .\n",
    "  }\n",
    "  ''',\n",
    "    initNs={'rdfs':RDFS,'ns':ns}\n",
    ")\n",
    "\n",
    "# Visualize the results\n",
    "for r in g.query(task72):\n",
    "  print(r)"
   ]
  },
  {
   "cell_type": "markdown",
   "metadata": {
    "id": "MXBqtBkJd22I"
   },
   "source": [
    "**TASK 7.3: List all individuals of just \"Person\" or \"Animal\". You do not need to list the individuals of the subclasses of person (in SPARQL only)**\n"
   ]
  },
  {
   "cell_type": "code",
   "execution_count": 13,
   "metadata": {
    "id": "APQGv3NHX8Tf"
   },
   "outputs": [
    {
     "name": "stdout",
     "output_type": "stream",
     "text": [
      "(rdflib.term.URIRef('http://somewhere#SaraJones'),)\n",
      "(rdflib.term.URIRef('http://somewhere#JohnSmith'),)\n",
      "(rdflib.term.URIRef('http://somewhere#RockySmith'),)\n",
      "(rdflib.term.URIRef('http://somewhere#Bugs'),)\n"
     ]
    }
   ],
   "source": [
    "task73 = prepareQuery(\n",
    "  '''\n",
    "  SELECT ?Subject WHERE {\n",
    "    {?Subject rdf:type ns:Person} UNION\n",
    "    {?Subject rdf:type ns:Animal}\n",
    "  }\n",
    "  ''',\n",
    "    initNs={'rdfs':RDFS, \"ns\":ns}\n",
    ")\n",
    "\n",
    "# Visualize the results\n",
    "for r in g.query(task73):\n",
    "  print(r)"
   ]
  },
  {
   "cell_type": "markdown",
   "metadata": {
    "id": "3NyI7M2VNr9R"
   },
   "source": [
    "**TASK 7.4:  List the name of the persons who know Rocky (in SPARQL only)**"
   ]
  },
  {
   "cell_type": "code",
   "execution_count": 14,
   "metadata": {
    "id": "I_CNoIKdNpbx"
   },
   "outputs": [
    {
     "name": "stdout",
     "output_type": "stream",
     "text": [
      "Sara Jones\n",
      "Jane Smith\n"
     ]
    }
   ],
   "source": [
    "from rdflib import FOAF\n",
    "VCARD = Namespace(\"http://www.w3.org/2001/vcard-rdf/3.0/\")\n",
    "\n",
    "task74 = prepareQuery(\n",
    "  '''\n",
    "  SELECT ?name WHERE {\n",
    "    ?Subject foaf:knows ns:RockySmith .\n",
    "    ?Subject vcard:FN ?name .\n",
    "  }\n",
    "  ''',\n",
    "    initNs={\"ns\":ns, \"foaf\":FOAF, \"vcard\" : VCARD}\n",
    ")\n",
    "\n",
    "# Visualize the results\n",
    "for r in g.query(task74):\n",
    "    print(r.name)"
   ]
  },
  {
   "cell_type": "markdown",
   "metadata": {
    "id": "kyjGsyxDPa2C"
   },
   "source": [
    "**Task 7.5: List the name of those animals who know at least another animal in the graph (in SPARQL only)**"
   ]
  },
  {
   "cell_type": "code",
   "execution_count": 15,
   "metadata": {
    "id": "yoVwVZUAPaLm"
   },
   "outputs": [
    {
     "name": "stdout",
     "output_type": "stream",
     "text": [
      "Rocky\n",
      "Bugs\n"
     ]
    }
   ],
   "source": [
    "VCARD = Namespace(\"http://www.w3.org/2001/vcard-rdf/3.0/\")\n",
    "task75 = prepareQuery(\n",
    "  '''\n",
    "  SELECT ?name WHERE {\n",
    "    ?Subject a ns:Animal .\n",
    "    ?Subject foaf:knows ?Subject2 .\n",
    "    ?Subject2 a ns:Animal .\n",
    "    ?Subject vcard:Given ?name\n",
    "  }\n",
    "  ''',\n",
    "    initNs={'rdfs':RDFS, \"ns\":ns, 'foaf': FOAF,'vcard':VCARD}\n",
    ")\n",
    "\n",
    "# Visualize the results\n",
    "for r in g.query(task75):\n",
    "    print(r.name)"
   ]
  },
  {
   "cell_type": "markdown",
   "metadata": {
    "id": "oU_Rd2ByXBaV"
   },
   "source": [
    "**Task 7.6: List the age of all living things in descending order (in SPARQL only)**"
   ]
  },
  {
   "cell_type": "code",
   "execution_count": 16,
   "metadata": {
    "id": "KPL9SUPiXEJZ"
   },
   "outputs": [
    {
     "name": "stdout",
     "output_type": "stream",
     "text": [
      "40\n",
      "30\n",
      "22\n",
      "20\n",
      "10\n",
      "2\n"
     ]
    }
   ],
   "source": [
    "task76 = prepareQuery(\n",
    "  '''\n",
    "  SELECT ?age WHERE {\n",
    "    ?class rdfs:subClassOf* ns:LivingThing .\n",
    "    ?alive rdf:type ?class .\n",
    "    ?alive foaf:age ?age\n",
    "  }\n",
    "  ORDER BY DESC(?age)\n",
    "  ''',\n",
    "  initNs={\"ns\": ns, \"vcard\": VCARD, \"foaf\": FOAF}\n",
    ")\n",
    "\n",
    "# Visualize the results\n",
    "for r in g.query(task76):\n",
    "  print(r.age)"
   ]
  }
 ],
 "metadata": {
  "colab": {
   "provenance": []
  },
  "kernelspec": {
   "display_name": "Python 3",
   "language": "python",
   "name": "python3"
  },
  "language_info": {
   "codemirror_mode": {
    "name": "ipython",
    "version": 3
   },
   "file_extension": ".py",
   "mimetype": "text/x-python",
   "name": "python",
   "nbconvert_exporter": "python",
   "pygments_lexer": "ipython3",
   "version": "3.12.2"
  }
 },
 "nbformat": 4,
 "nbformat_minor": 0
}
