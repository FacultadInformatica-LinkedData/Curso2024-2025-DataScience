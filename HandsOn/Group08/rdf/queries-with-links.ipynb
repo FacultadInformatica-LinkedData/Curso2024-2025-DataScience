{
 "cells": [
  {
   "cell_type": "code",
   "execution_count": 1,
   "metadata": {},
   "outputs": [],
   "source": [
    "from rdflib import Graph, Namespace\n",
    "from rdflib.plugins.sparql import prepareQuery"
   ]
  },
  {
   "cell_type": "code",
   "execution_count": 11,
   "metadata": {},
   "outputs": [],
   "source": [
    "# Load RDF data into a graph\n",
    "rdf_file = \"./estacion-with-links.ttl\"  # Replace with the path to your TTL file\n",
    "g = Graph()\n",
    "g.parse(rdf_file, format=\"ttl\")\n",
    "\n",
    "# Define namespaces\n",
    "NS = Namespace(\"https://www.dominiowebsemant.com/ontology/CercaniasMalaga#\")\n",
    "BASE = Namespace(\"http://websemantica/base#\")\n",
    "OWL = Namespace(\"http://www.w3.org/2002/07/owl#\")\n",
    "GEO = Namespace(\"http://www.w3.org/2003/01/geo/wgs84_pos#\")"
   ]
  },
  {
   "cell_type": "code",
   "execution_count": 12,
   "metadata": {},
   "outputs": [
    {
     "name": "stdout",
     "output_type": "stream",
     "text": [
      "Query 1: Retrieve all stations with their coordinates and descriptions\n",
      "Station: https://www.dominiowebsemant.com/resource/Estacion/54405, Wikidata link:https://www.wikidata.org/wiki/Q8842737, Code: 54405, Name: Estación de Álora, Latitude: 36.819838, Longitude: -4.699623\n",
      "Station: https://www.dominiowebsemant.com/resource/Estacion/54407, Wikidata link:https://www.wikidata.org/wiki/Q5845653, Code: 54407, Name: Aljaima train station, Latitude: 36.733092, Longitude: -4.664725\n",
      "Station: https://www.dominiowebsemant.com/resource/Estacion/54408, Wikidata link:https://www.wikidata.org/wiki/Q5846106, Code: 54408, Name: Cartama Railway Station, Latitude: 36.7334013, Longitude: -4.6093394\n",
      "Station: https://www.dominiowebsemant.com/resource/Estacion/54410, Wikidata link:https://www.wikidata.org/wiki/Q5845932, Code: 54410, Name: Campanillas train station, Latitude: 36.705011, Longitude: -4.545516\n",
      "Station: https://www.dominiowebsemant.com/resource/Estacion/54412, Wikidata link:https://www.wikidata.org/wiki/Q5846635, Code: 54412, Name: Los Prados train station, Latitude: 36.6988637, Longitude: -4.4778853\n",
      "Station: https://www.dominiowebsemant.com/resource/Estacion/54413, Wikidata link:https://www.wikidata.org/wiki/Q801214, Code: 54413, Name: Málaga-María Zambrano Railway Station, Latitude: 36.7113412, Longitude: -4.4328779\n",
      "Station: https://www.dominiowebsemant.com/resource/Estacion/54501, Wikidata link:https://www.wikidata.org/wiki/Q8842201, Code: 54501, Name: Victoria Kent train station, Latitude: 36.6962281, Longitude: -4.4652369\n",
      "Station: https://www.dominiowebsemant.com/resource/Estacion/54503, Wikidata link:https://www.wikidata.org/wiki/Q959331, Code: 54503, Name: Guadalhorce train station, Latitude: 36.6921154, Longitude: -4.4831263\n",
      "Station: https://www.dominiowebsemant.com/resource/Estacion/54505, Wikidata link:https://www.wikidata.org/wiki/Q8779199, Code: 54505, Name: Malaga Airport train station, Latitude: 36.6760678, Longitude: -4.4879567\n",
      "Station: https://www.dominiowebsemant.com/resource/Estacion/54508, Wikidata link:https://www.wikidata.org/wiki/Q5846469, Code: 54508, Name: La Colina train station, Spain, Latitude: 36.6401889, Longitude: -4.4952547\n",
      "Station: https://www.dominiowebsemant.com/resource/Estacion/54509, Wikidata link:https://www.wikidata.org/wiki/Q5847350, Code: 54509, Name: Torremolinos train station, Latitude: 36.6253108, Longitude: -4.4966871\n",
      "Station: https://www.dominiowebsemant.com/resource/Estacion/54510, Wikidata link:https://www.wikidata.org/wiki/Q5846177, Code: 54510, Name: El Pinillo train station, Latitude: 36.6101783, Longitude: -4.5146208\n",
      "Station: https://www.dominiowebsemant.com/resource/Estacion/54511, Wikidata link:https://www.wikidata.org/wiki/Q5845802, Code: 54511, Name: Benalmádena-Arroyo de la Miel railway station, Latitude: 36.599091, Longitude: -4.536341\n",
      "Station: https://www.dominiowebsemant.com/resource/Estacion/54512, Wikidata link:https://www.wikidata.org/wiki/Q5847352, Code: 54512, Name: Torremuelle Station, Latitude: 36.5798535, Longitude: -4.573148\n",
      "Station: https://www.dominiowebsemant.com/resource/Estacion/54513, Wikidata link:https://www.wikidata.org/wiki/Q5845978, Code: 54513, Name: estación de Carvajal, Latitude: 36.570308, Longitude: -4.594023\n",
      "Station: https://www.dominiowebsemant.com/resource/Estacion/54515, Wikidata link:https://www.wikidata.org/wiki/Q8840986, Code: 54515, Name: Los Boliches train station, Latitude: 36.5515902, Longitude: -4.6166673\n",
      "Station: https://www.dominiowebsemant.com/resource/Estacion/54516, Wikidata link:https://www.wikidata.org/wiki/Q11681648, Code: 54516, Name: Fuengirola train station, Latitude: 36.546263, Longitude: -4.6203322\n",
      "Station: https://www.dominiowebsemant.com/resource/Estacion/54517, Wikidata link:https://www.wikidata.org/wiki/Q604972, Code: 54517, Name: Málaga Centro-Alameda railway station, Latitude: 36.71965, Longitude: -4.420019\n",
      "Station: https://www.dominiowebsemant.com/resource/Estacion/54518, Wikidata link:https://www.wikidata.org/wiki/Q5846641, Code: 54518, Name: Los Álamos train station, Latitude: 36.6452816, Longitude: -4.4848827\n",
      "Station: https://www.dominiowebsemant.com/resource/Estacion/54519, Wikidata link:https://www.wikidata.org/wiki/Q5846743, Code: 54519, Name: Montemar Alto train station, Latitude: 36.6138194, Longitude: -4.5089797\n",
      "Station: https://www.dominiowebsemant.com/resource/Estacion/54520, Wikidata link:https://www.wikidata.org/wiki/Q8841487, Code: 54520, Name: Plaza Mayor train station, Latitude: 36.6560328, Longitude: -4.4800137\n"
     ]
    }
   ],
   "source": [
    "# Query 1: Retrieve all stations with their coordinates and descriptions\n",
    "q1 = prepareQuery('''\n",
    "  SELECT ?station ?wikidataStation ?code ?name ?latitude ?longitude\n",
    "  WHERE {\n",
    "    ?station a ns:Estación ;\n",
    "             ns:codigoEstacion ?code ;\n",
    "             ns:nombreEstacion ?name ;\n",
    "             geo:lat ?latitude ;\n",
    "             owl:sameAs ?wikidataStation;\n",
    "             geo:long ?longitude .\n",
    "  }\n",
    "''', initNs={\"ns\": NS, \"owl\": OWL, \"geo\": GEO})\n",
    "\n",
    "print(\"Query 1: Retrieve all stations with their coordinates and descriptions\")\n",
    "for r in g.query(q1):\n",
    "    print(f\"Station: {r.station}, Wikidata link:{r.wikidataStation}, Code: {r.code}, Name: {r.name}, Latitude: {r.latitude}, Longitude: {r.longitude}\")"
   ]
  },
  {
   "cell_type": "code",
   "execution_count": null,
   "metadata": {},
   "outputs": [
    {
     "name": "stdout",
     "output_type": "stream",
     "text": [
      "\n",
      "Query 2: List all nuclei and their associated stations\n",
      "Nucleus: https://www.dominiowebsemant.com/resource/Nucleo/M%C3%81LAGA, Name: MÁLAGA, Station: https://www.dominiowebsemant.com/resource/Estacion/54405, wikidata link: https://www.wikidata.org/wiki/Q8842737\n",
      "Nucleus: https://www.dominiowebsemant.com/resource/Nucleo/M%C3%81LAGA, Name: MÁLAGA, Station: https://www.dominiowebsemant.com/resource/Estacion/54407, wikidata link: https://www.wikidata.org/wiki/Q5845653\n",
      "Nucleus: https://www.dominiowebsemant.com/resource/Nucleo/M%C3%81LAGA, Name: MÁLAGA, Station: https://www.dominiowebsemant.com/resource/Estacion/54408, wikidata link: https://www.wikidata.org/wiki/Q5846106\n",
      "Nucleus: https://www.dominiowebsemant.com/resource/Nucleo/M%C3%81LAGA, Name: MÁLAGA, Station: https://www.dominiowebsemant.com/resource/Estacion/54410, wikidata link: https://www.wikidata.org/wiki/Q5845932\n",
      "Nucleus: https://www.dominiowebsemant.com/resource/Nucleo/M%C3%81LAGA, Name: MÁLAGA, Station: https://www.dominiowebsemant.com/resource/Estacion/54412, wikidata link: https://www.wikidata.org/wiki/Q5846635\n",
      "Nucleus: https://www.dominiowebsemant.com/resource/Nucleo/M%C3%81LAGA, Name: MÁLAGA, Station: https://www.dominiowebsemant.com/resource/Estacion/54413, wikidata link: https://www.wikidata.org/wiki/Q801214\n",
      "Nucleus: https://www.dominiowebsemant.com/resource/Nucleo/M%C3%81LAGA, Name: MÁLAGA, Station: https://www.dominiowebsemant.com/resource/Estacion/54501, wikidata link: https://www.wikidata.org/wiki/Q8842201\n",
      "Nucleus: https://www.dominiowebsemant.com/resource/Nucleo/M%C3%81LAGA, Name: MÁLAGA, Station: https://www.dominiowebsemant.com/resource/Estacion/54503, wikidata link: https://www.wikidata.org/wiki/Q959331\n",
      "Nucleus: https://www.dominiowebsemant.com/resource/Nucleo/M%C3%81LAGA, Name: MÁLAGA, Station: https://www.dominiowebsemant.com/resource/Estacion/54505, wikidata link: https://www.wikidata.org/wiki/Q8779199\n",
      "Nucleus: https://www.dominiowebsemant.com/resource/Nucleo/M%C3%81LAGA, Name: MÁLAGA, Station: https://www.dominiowebsemant.com/resource/Estacion/54508, wikidata link: https://www.wikidata.org/wiki/Q5846469\n",
      "Nucleus: https://www.dominiowebsemant.com/resource/Nucleo/M%C3%81LAGA, Name: MÁLAGA, Station: https://www.dominiowebsemant.com/resource/Estacion/54509, wikidata link: https://www.wikidata.org/wiki/Q5847350\n",
      "Nucleus: https://www.dominiowebsemant.com/resource/Nucleo/M%C3%81LAGA, Name: MÁLAGA, Station: https://www.dominiowebsemant.com/resource/Estacion/54510, wikidata link: https://www.wikidata.org/wiki/Q5846177\n",
      "Nucleus: https://www.dominiowebsemant.com/resource/Nucleo/M%C3%81LAGA, Name: MÁLAGA, Station: https://www.dominiowebsemant.com/resource/Estacion/54511, wikidata link: https://www.wikidata.org/wiki/Q5845802\n",
      "Nucleus: https://www.dominiowebsemant.com/resource/Nucleo/M%C3%81LAGA, Name: MÁLAGA, Station: https://www.dominiowebsemant.com/resource/Estacion/54512, wikidata link: https://www.wikidata.org/wiki/Q5847352\n",
      "Nucleus: https://www.dominiowebsemant.com/resource/Nucleo/M%C3%81LAGA, Name: MÁLAGA, Station: https://www.dominiowebsemant.com/resource/Estacion/54513, wikidata link: https://www.wikidata.org/wiki/Q5845978\n",
      "Nucleus: https://www.dominiowebsemant.com/resource/Nucleo/M%C3%81LAGA, Name: MÁLAGA, Station: https://www.dominiowebsemant.com/resource/Estacion/54515, wikidata link: https://www.wikidata.org/wiki/Q8840986\n",
      "Nucleus: https://www.dominiowebsemant.com/resource/Nucleo/M%C3%81LAGA, Name: MÁLAGA, Station: https://www.dominiowebsemant.com/resource/Estacion/54516, wikidata link: https://www.wikidata.org/wiki/Q11681648\n",
      "Nucleus: https://www.dominiowebsemant.com/resource/Nucleo/M%C3%81LAGA, Name: MÁLAGA, Station: https://www.dominiowebsemant.com/resource/Estacion/54517, wikidata link: https://www.wikidata.org/wiki/Q604972\n",
      "Nucleus: https://www.dominiowebsemant.com/resource/Nucleo/M%C3%81LAGA, Name: MÁLAGA, Station: https://www.dominiowebsemant.com/resource/Estacion/54518, wikidata link: https://www.wikidata.org/wiki/Q5846641\n",
      "Nucleus: https://www.dominiowebsemant.com/resource/Nucleo/M%C3%81LAGA, Name: MÁLAGA, Station: https://www.dominiowebsemant.com/resource/Estacion/54519, wikidata link: https://www.wikidata.org/wiki/Q5846743\n",
      "Nucleus: https://www.dominiowebsemant.com/resource/Nucleo/M%C3%81LAGA, Name: MÁLAGA, Station: https://www.dominiowebsemant.com/resource/Estacion/54520, wikidata link: https://www.wikidata.org/wiki/Q8841487\n"
     ]
    }
   ],
   "source": [
    "# Query 2: List all nuclei and their associated stations\n",
    "q2 = prepareQuery('''\n",
    "  SELECT ?nucleo ?nucleoName ?station ?wikidataStation\n",
    "  WHERE {\n",
    "    ?nucleo a ns:NucleoCercanias ;\n",
    "            ns:nombreNucleo ?nucleoName .\n",
    "            \n",
    "    ?station ns:tieneNucleo ?nucleo ;\n",
    "             owl:sameAs ?wikidataStation.\n",
    "  }\n",
    "''', initNs={\"ns\": NS, \"owl\": OWL})\n",
    "\n",
    "print(\"\\nQuery 2: List all nuclei and their associated stations\")\n",
    "for r in g.query(q2):\n",
    "    print(f\"Nucleus: {r.nucleo}, Name: {r.nucleoName}, Station: {r.station}, wikidata link: {r.wikidataStation}\")"
   ]
  },
  {
   "cell_type": "code",
   "execution_count": 16,
   "metadata": {},
   "outputs": [
    {
     "name": "stdout",
     "output_type": "stream",
     "text": [
      "\n",
      "Query 3: Retrieve all stations and their associated addresses\n",
      "Station: https://www.dominiowebsemant.com/resource/Estacion/54405 https://www.wikidata.org/wiki/Q8842737, Name: Estación de Álora, Address: https://www.dominiowebsemant.com/resource/Direccion/54405, Address Name: CALLE ESTACION FERROCARRIL\n",
      "Station: https://www.dominiowebsemant.com/resource/Estacion/54407 https://www.wikidata.org/wiki/Q5845653, Name: Aljaima train station, Address: https://www.dominiowebsemant.com/resource/Direccion/54407, Address Name: CARRETERA A-7054 - ESTACION FERROCARRIL\n",
      "Station: https://www.dominiowebsemant.com/resource/Estacion/54408 https://www.wikidata.org/wiki/Q5846106, Name: Cartama Railway Station, Address: https://www.dominiowebsemant.com/resource/Direccion/54408, Address Name: BARRIADA GARCIA AGUA\n",
      "Station: https://www.dominiowebsemant.com/resource/Estacion/54410 https://www.wikidata.org/wiki/Q5845932, Name: Campanillas train station, Address: https://www.dominiowebsemant.com/resource/Direccion/54410, Address Name: CALLE ALMENCINO - ESTACION FERROCARRIL\n",
      "Station: https://www.dominiowebsemant.com/resource/Estacion/54412 https://www.wikidata.org/wiki/Q5846635, Name: Los Prados train station, Address: https://www.dominiowebsemant.com/resource/Direccion/54412, Address Name: CALLE CAMINO PRADOS\n",
      "Station: https://www.dominiowebsemant.com/resource/Estacion/54413 https://www.wikidata.org/wiki/Q801214, Name: Málaga-María Zambrano Railway Station, Address: https://www.dominiowebsemant.com/resource/Direccion/54413, Address Name: CALLE EXPLANADA DE LA ESTACION\n",
      "Station: https://www.dominiowebsemant.com/resource/Estacion/54501 https://www.wikidata.org/wiki/Q8842201, Name: Victoria Kent train station, Address: https://www.dominiowebsemant.com/resource/Direccion/54501, Address Name: PLATERO FRANCISCO VAZQUEZ\n",
      "Station: https://www.dominiowebsemant.com/resource/Estacion/54503 https://www.wikidata.org/wiki/Q959331, Name: Guadalhorce train station, Address: https://www.dominiowebsemant.com/resource/Direccion/54503, Address Name: CALLE CESAR VALLEJO - ESTACION FERROCARRIL\n",
      "Station: https://www.dominiowebsemant.com/resource/Estacion/54505 https://www.wikidata.org/wiki/Q8779199, Name: Malaga Airport train station, Address: https://www.dominiowebsemant.com/resource/Direccion/54505, Address Name: AVENIDA COMANDANTE GARCIA MORATO\n",
      "Station: https://www.dominiowebsemant.com/resource/Estacion/54508 https://www.wikidata.org/wiki/Q5846469, Name: La Colina train station, Spain, Address: https://www.dominiowebsemant.com/resource/Direccion/54508, Address Name: URBANIZACION LA COLINA\n",
      "Station: https://www.dominiowebsemant.com/resource/Estacion/54509 https://www.wikidata.org/wiki/Q5847350, Name: Torremolinos train station, Address: https://www.dominiowebsemant.com/resource/Direccion/54509, Address Name: PLAZA DE LA NOGALERA\n",
      "Station: https://www.dominiowebsemant.com/resource/Estacion/54510 https://www.wikidata.org/wiki/Q5846177, Name: El Pinillo train station, Address: https://www.dominiowebsemant.com/resource/Direccion/54510, Address Name: DECANOM JUAN DE HOYOS\n",
      "Station: https://www.dominiowebsemant.com/resource/Estacion/54511 https://www.wikidata.org/wiki/Q5845802, Name: Benalmádena-Arroyo de la Miel railway station, Address: https://www.dominiowebsemant.com/resource/Direccion/54511, Address Name: AVENIDA DE LA ESTACION\n",
      "Station: https://www.dominiowebsemant.com/resource/Estacion/54512 https://www.wikidata.org/wiki/Q5847352, Name: Torremuelle Station, Address: https://www.dominiowebsemant.com/resource/Direccion/54512, Address Name: URBANIZACION TORREMUELLE\n",
      "Station: https://www.dominiowebsemant.com/resource/Estacion/54513 https://www.wikidata.org/wiki/Q5845978, Name: estación de Carvajal, Address: https://www.dominiowebsemant.com/resource/Direccion/54513, Address Name: CALLE SIERRA DE CAZORLA\n",
      "Station: https://www.dominiowebsemant.com/resource/Estacion/54515 https://www.wikidata.org/wiki/Q8840986, Name: Los Boliches train station, Address: https://www.dominiowebsemant.com/resource/Direccion/54515, Address Name: AVENIDA DE LOS BOLICHES\n",
      "Station: https://www.dominiowebsemant.com/resource/Estacion/54516 https://www.wikidata.org/wiki/Q11681648, Name: Fuengirola train station, Address: https://www.dominiowebsemant.com/resource/Direccion/54516, Address Name: AVENIDA JESUS SANTOS REIN\n",
      "Station: https://www.dominiowebsemant.com/resource/Estacion/54517 https://www.wikidata.org/wiki/Q604972, Name: Málaga Centro-Alameda railway station, Address: https://www.dominiowebsemant.com/resource/Direccion/54517, Address Name: AVENIDA AURORA\n",
      "Station: https://www.dominiowebsemant.com/resource/Estacion/54518 https://www.wikidata.org/wiki/Q5846641, Name: Los Álamos train station, Address: https://www.dominiowebsemant.com/resource/Direccion/54518, Address Name: CALLE MENTON\n",
      "Station: https://www.dominiowebsemant.com/resource/Estacion/54519 https://www.wikidata.org/wiki/Q5846743, Name: Montemar Alto train station, Address: https://www.dominiowebsemant.com/resource/Direccion/54519, Address Name: JACINTO MESA\n",
      "Station: https://www.dominiowebsemant.com/resource/Estacion/54520 https://www.wikidata.org/wiki/Q8841487, Name: Plaza Mayor train station, Address: https://www.dominiowebsemant.com/resource/Direccion/54520, Address Name: CALLE ALFONSO PONCE DE LEON\n"
     ]
    }
   ],
   "source": [
    "# Query 3: Retrieve all stations and their associated addresses\n",
    "q3 = prepareQuery('''\n",
    "  SELECT ?station ?stationName ?address ?addressName ?wikidataStation\n",
    "  WHERE {\n",
    "    ?station a ns:Estación ;\n",
    "             ns:nombreEstacion ?stationName ;\n",
    "             ns:localizadoEn ?address ;\n",
    "             owl:sameAs ?wikidataStation .\n",
    "    ?address ns:nombreDireccion ?addressName .\n",
    "  }\n",
    "''', initNs={\"ns\": NS, \"owl\": OWL})\n",
    "\n",
    "print(\"\\nQuery 3: Retrieve all stations and their associated addresses\")\n",
    "for r in g.query(q3):\n",
    "    print(f\"Station: {r.station} {r.wikidataStation}, Name: {r.stationName}, Address: {r.address}, Address Name: {r.addressName}\")"
   ]
  },
  {
   "cell_type": "code",
   "execution_count": 19,
   "metadata": {},
   "outputs": [
    {
     "name": "stdout",
     "output_type": "stream",
     "text": [
      "\n",
      "Query 4: List all provinces and their populations\n",
      "Provincia: https://www.dominiowebsemant.com/resource/Provincia/%C3%81lora https://www.wikidata.org/wiki/Q95028, Población: https://www.dominiowebsemant.com/resource/Poblacion/%C3%81lora https://www.wikidata.org/wiki/Q250746\n",
      "Provincia: https://www.dominiowebsemant.com/resource/Provincia/Benalm%C3%A1dena https://www.wikidata.org/wiki/Q95028, Población: https://www.dominiowebsemant.com/resource/Poblacion/Benalm%C3%A1dena https://www.wikidata.org/wiki/Q488869\n",
      "Provincia: https://www.dominiowebsemant.com/resource/Provincia/C%C3%A1rtama https://www.wikidata.org/wiki/Q95028, Población: https://www.dominiowebsemant.com/resource/Poblacion/C%C3%A1rtama https://www.wikidata.org/wiki/Q935266\n",
      "Provincia: https://www.dominiowebsemant.com/resource/Provincia/Fuengirola https://www.wikidata.org/wiki/Q95028, Población: https://www.dominiowebsemant.com/resource/Poblacion/Fuengirola https://www.wikidata.org/wiki/Q492735\n",
      "Provincia: https://www.dominiowebsemant.com/resource/Provincia/M%C3%A1laga https://www.wikidata.org/wiki/Q95028, Población: https://www.dominiowebsemant.com/resource/Poblacion/M%C3%A1laga https://www.wikidata.org/wiki/Q8851\n",
      "Provincia: https://www.dominiowebsemant.com/resource/Provincia/Torremolinos https://www.wikidata.org/wiki/Q95028, Población: https://www.dominiowebsemant.com/resource/Poblacion/Torremolinos https://www.wikidata.org/wiki/Q492737\n"
     ]
    }
   ],
   "source": [
    "# Query 4: List all provinces and their populations\n",
    "q4 = prepareQuery('''\n",
    "  SELECT ?provincia ?poblacion ?wikidataProvincia ?wikidataPoblacion\n",
    "  WHERE {\n",
    "    ?provincia a ns:Provincia ;\n",
    "        owl:sameAs ?wikidataProvincia.\n",
    "    ?poblacion a ns:Poblacion ;\n",
    "        owl:sameAs ?wikidataPoblacion.\n",
    "    ?provincia ns:tienePoblacion ?poblacion .\n",
    "  }\n",
    "''', initNs={\"ns\": NS, \"owl\": OWL})\n",
    "\n",
    "print(\"\\nQuery 4: List all provinces and their populations\")\n",
    "for row in g.query(q4):\n",
    "    print(f\"Provincia: {row.provincia} {row.wikidataProvincia}, Población: {row.poblacion} {row.wikidataPoblacion}\")"
   ]
  }
 ],
 "metadata": {
  "kernelspec": {
   "display_name": "Python 3",
   "language": "python",
   "name": "python3"
  },
  "language_info": {
   "codemirror_mode": {
    "name": "ipython",
    "version": 3
   },
   "file_extension": ".py",
   "mimetype": "text/x-python",
   "name": "python",
   "nbconvert_exporter": "python",
   "pygments_lexer": "ipython3",
   "version": "3.12.1"
  }
 },
 "nbformat": 4,
 "nbformat_minor": 2
}
