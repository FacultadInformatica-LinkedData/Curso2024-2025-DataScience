{
 "cells": [
  {
   "cell_type": "code",
   "execution_count": 3,
   "metadata": {},
   "outputs": [],
   "source": [
    "from rdflib import Graph, Namespace\n",
    "from rdflib.plugins.sparql import prepareQuery"
   ]
  },
  {
   "cell_type": "code",
   "execution_count": null,
   "metadata": {},
   "outputs": [],
   "source": [
    "# Load RDF data into a graph\n",
    "rdf_file = \"./estacion.ttl\"  # Replace with the path to your TTL file\n",
    "g = Graph()\n",
    "g.parse(rdf_file, format=\"ttl\")\n",
    "\n",
    "# Define namespaces\n",
    "NS = Namespace(\"https://www.dominiowebsemant.com/ontology/CercaniasMalaga#\")\n",
    "BASE = Namespace(\"https://www.dominiowebsemant.com/\")\n",
    "GEO = Namespace(\"http://www.w3.org/2003/01/geo/wgs84_pos#\")"
   ]
  },
  {
   "cell_type": "code",
   "execution_count": 9,
   "metadata": {},
   "outputs": [
    {
     "name": "stdout",
     "output_type": "stream",
     "text": [
      "Query 1: Retrieve all stations with their coordinates and descriptions\n",
      "Station: https://www.dominiowebsemant.com/resource/Estacion/54405, Code: 54405, Name: ALORA, Latitude: 36.819838, Longitude: -4.699623\n",
      "Station: https://www.dominiowebsemant.com/resource/Estacion/54406, Code: 54406, Name: PIZARRA, Latitude: 36.765619, Longitude: -4.7111214\n",
      "Station: https://www.dominiowebsemant.com/resource/Estacion/54407, Code: 54407, Name: ALJAIMA, Latitude: 36.733092, Longitude: -4.664725\n",
      "Station: https://www.dominiowebsemant.com/resource/Estacion/54408, Code: 54408, Name: CARTAMA, Latitude: 36.7334013, Longitude: -4.6093394\n",
      "Station: https://www.dominiowebsemant.com/resource/Estacion/54410, Code: 54410, Name: CAMPANILLAS, Latitude: 36.705011, Longitude: -4.545516\n",
      "Station: https://www.dominiowebsemant.com/resource/Estacion/54412, Code: 54412, Name: LOS PRADOS, Latitude: 36.6988637, Longitude: -4.4778853\n",
      "Station: https://www.dominiowebsemant.com/resource/Estacion/54413, Code: 54413, Name: MALAGA MARIA ZAMBRANO, Latitude: 36.7113412, Longitude: -4.4328779\n",
      "Station: https://www.dominiowebsemant.com/resource/Estacion/54501, Code: 54501, Name: VICTORIA KENT, Latitude: 36.6962281, Longitude: -4.4652369\n",
      "Station: https://www.dominiowebsemant.com/resource/Estacion/54503, Code: 54503, Name: GUADALHORCE, Latitude: 36.6921154, Longitude: -4.4831263\n",
      "Station: https://www.dominiowebsemant.com/resource/Estacion/54505, Code: 54505, Name: AEROPUERTO, Latitude: 36.6760678, Longitude: -4.4879567\n",
      "Station: https://www.dominiowebsemant.com/resource/Estacion/54508, Code: 54508, Name: LA COLINA, Latitude: 36.6401889, Longitude: -4.4952547\n",
      "Station: https://www.dominiowebsemant.com/resource/Estacion/54509, Code: 54509, Name: TORREMOLINOS, Latitude: 36.6253108, Longitude: -4.4966871\n",
      "Station: https://www.dominiowebsemant.com/resource/Estacion/54510, Code: 54510, Name: EL PINILLO, Latitude: 36.6101783, Longitude: -4.5146208\n",
      "Station: https://www.dominiowebsemant.com/resource/Estacion/54511, Code: 54511, Name: BENALMADENA-ARROYO DE LA MIEL, Latitude: 36.599091, Longitude: -4.536341\n",
      "Station: https://www.dominiowebsemant.com/resource/Estacion/54512, Code: 54512, Name: TORREMUELLE, Latitude: 36.5798535, Longitude: -4.573148\n",
      "Station: https://www.dominiowebsemant.com/resource/Estacion/54513, Code: 54513, Name: CARVAJAL, Latitude: 36.570308, Longitude: -4.594023\n",
      "Station: https://www.dominiowebsemant.com/resource/Estacion/54514, Code: 54514, Name: TORREBLANCA, Latitude: 36.5636, Longitude: -4.60966\n",
      "Station: https://www.dominiowebsemant.com/resource/Estacion/54515, Code: 54515, Name: LOS BOLICHES, Latitude: 36.5515902, Longitude: -4.6166673\n",
      "Station: https://www.dominiowebsemant.com/resource/Estacion/54516, Code: 54516, Name: FUENGIROLA, Latitude: 36.546263, Longitude: -4.6203322\n",
      "Station: https://www.dominiowebsemant.com/resource/Estacion/54517, Code: 54517, Name: MALAGA-CENTRO ALAMEDA, Latitude: 36.71965, Longitude: -4.420019\n",
      "Station: https://www.dominiowebsemant.com/resource/Estacion/54518, Code: 54518, Name: LOS ALAMOS, Latitude: 36.6452816, Longitude: -4.4848827\n",
      "Station: https://www.dominiowebsemant.com/resource/Estacion/54519, Code: 54519, Name: MONTEMAR ALTO, Latitude: 36.6138194, Longitude: -4.5089797\n",
      "Station: https://www.dominiowebsemant.com/resource/Estacion/54520, Code: 54520, Name: PLAZA MAYOR, Latitude: 36.6560328, Longitude: -4.4800137\n"
     ]
    }
   ],
   "source": [
    "# Query 1: Retrieve all stations with their coordinates and descriptions\n",
    "q1 = prepareQuery('''\n",
    "  SELECT ?station ?code ?name ?latitude ?longitude\n",
    "  WHERE {\n",
    "    ?station a ns:Estación ;\n",
    "             ns:codigoEstacion ?code ;\n",
    "             ns:nombreEstacion ?name ;\n",
    "             geo:lat ?latitude ;\n",
    "             geo:long ?longitude .\n",
    "  }\n",
    "''', initNs={\"ns\": NS, \"geo\": GEO})\n",
    "\n",
    "\n",
    "print(\"Query 1: Retrieve all stations with their coordinates and descriptions\")\n",
    "for r in g.query(q1):\n",
    "    print(f\"Station: {r.station}, Code: {r.code}, Name: {r.name}, Latitude: {r.latitude}, Longitude: {r.longitude}\")"
   ]
  },
  {
   "cell_type": "code",
   "execution_count": 32,
   "metadata": {},
   "outputs": [
    {
     "name": "stdout",
     "output_type": "stream",
     "text": [
      "\n",
      "Query 2: List all nuclei and their associated stations\n",
      "Nucleus: https://www.dominiowebsemant.com/resource/Nucleo/M%C3%81LAGA, Name: MÁLAGA, Station: https://www.dominiowebsemant.com/resource/Estacion/54405\n",
      "Nucleus: https://www.dominiowebsemant.com/resource/Nucleo/M%C3%81LAGA, Name: MÁLAGA, Station: https://www.dominiowebsemant.com/resource/Estacion/54406\n",
      "Nucleus: https://www.dominiowebsemant.com/resource/Nucleo/M%C3%81LAGA, Name: MÁLAGA, Station: https://www.dominiowebsemant.com/resource/Estacion/54407\n",
      "Nucleus: https://www.dominiowebsemant.com/resource/Nucleo/M%C3%81LAGA, Name: MÁLAGA, Station: https://www.dominiowebsemant.com/resource/Estacion/54408\n",
      "Nucleus: https://www.dominiowebsemant.com/resource/Nucleo/M%C3%81LAGA, Name: MÁLAGA, Station: https://www.dominiowebsemant.com/resource/Estacion/54410\n",
      "Nucleus: https://www.dominiowebsemant.com/resource/Nucleo/M%C3%81LAGA, Name: MÁLAGA, Station: https://www.dominiowebsemant.com/resource/Estacion/54412\n",
      "Nucleus: https://www.dominiowebsemant.com/resource/Nucleo/M%C3%81LAGA, Name: MÁLAGA, Station: https://www.dominiowebsemant.com/resource/Estacion/54413\n",
      "Nucleus: https://www.dominiowebsemant.com/resource/Nucleo/M%C3%81LAGA, Name: MÁLAGA, Station: https://www.dominiowebsemant.com/resource/Estacion/54501\n",
      "Nucleus: https://www.dominiowebsemant.com/resource/Nucleo/M%C3%81LAGA, Name: MÁLAGA, Station: https://www.dominiowebsemant.com/resource/Estacion/54503\n",
      "Nucleus: https://www.dominiowebsemant.com/resource/Nucleo/M%C3%81LAGA, Name: MÁLAGA, Station: https://www.dominiowebsemant.com/resource/Estacion/54505\n",
      "Nucleus: https://www.dominiowebsemant.com/resource/Nucleo/M%C3%81LAGA, Name: MÁLAGA, Station: https://www.dominiowebsemant.com/resource/Estacion/54508\n",
      "Nucleus: https://www.dominiowebsemant.com/resource/Nucleo/M%C3%81LAGA, Name: MÁLAGA, Station: https://www.dominiowebsemant.com/resource/Estacion/54509\n",
      "Nucleus: https://www.dominiowebsemant.com/resource/Nucleo/M%C3%81LAGA, Name: MÁLAGA, Station: https://www.dominiowebsemant.com/resource/Estacion/54510\n",
      "Nucleus: https://www.dominiowebsemant.com/resource/Nucleo/M%C3%81LAGA, Name: MÁLAGA, Station: https://www.dominiowebsemant.com/resource/Estacion/54511\n",
      "Nucleus: https://www.dominiowebsemant.com/resource/Nucleo/M%C3%81LAGA, Name: MÁLAGA, Station: https://www.dominiowebsemant.com/resource/Estacion/54512\n",
      "Nucleus: https://www.dominiowebsemant.com/resource/Nucleo/M%C3%81LAGA, Name: MÁLAGA, Station: https://www.dominiowebsemant.com/resource/Estacion/54513\n",
      "Nucleus: https://www.dominiowebsemant.com/resource/Nucleo/M%C3%81LAGA, Name: MÁLAGA, Station: https://www.dominiowebsemant.com/resource/Estacion/54514\n",
      "Nucleus: https://www.dominiowebsemant.com/resource/Nucleo/M%C3%81LAGA, Name: MÁLAGA, Station: https://www.dominiowebsemant.com/resource/Estacion/54515\n",
      "Nucleus: https://www.dominiowebsemant.com/resource/Nucleo/M%C3%81LAGA, Name: MÁLAGA, Station: https://www.dominiowebsemant.com/resource/Estacion/54516\n",
      "Nucleus: https://www.dominiowebsemant.com/resource/Nucleo/M%C3%81LAGA, Name: MÁLAGA, Station: https://www.dominiowebsemant.com/resource/Estacion/54517\n",
      "Nucleus: https://www.dominiowebsemant.com/resource/Nucleo/M%C3%81LAGA, Name: MÁLAGA, Station: https://www.dominiowebsemant.com/resource/Estacion/54518\n",
      "Nucleus: https://www.dominiowebsemant.com/resource/Nucleo/M%C3%81LAGA, Name: MÁLAGA, Station: https://www.dominiowebsemant.com/resource/Estacion/54519\n",
      "Nucleus: https://www.dominiowebsemant.com/resource/Nucleo/M%C3%81LAGA, Name: MÁLAGA, Station: https://www.dominiowebsemant.com/resource/Estacion/54520\n"
     ]
    }
   ],
   "source": [
    "# Query 2: List all nuclei and their associated stations\n",
    "q2 = prepareQuery('''\n",
    "  SELECT ?nucleo ?nucleoName ?station\n",
    "  WHERE {\n",
    "    ?nucleo a ns:NucleoCercanias ;\n",
    "            ns:nombreNucleo ?nucleoName .\n",
    "    ?station ns:tieneNucleo ?nucleo .\n",
    "  }\n",
    "''', initNs={\"ns\": NS})\n",
    "\n",
    "print(\"\\nQuery 2: List all nuclei and their associated stations\")\n",
    "for r in g.query(q2):\n",
    "    print(f\"Nucleus: {r.nucleo}, Name: {r.nucleoName}, Station: {r.station}\")"
   ]
  },
  {
   "cell_type": "code",
   "execution_count": 33,
   "metadata": {},
   "outputs": [
    {
     "name": "stdout",
     "output_type": "stream",
     "text": [
      "\n",
      "Query 3: Retrieve all stations and their associated addresses\n",
      "Station: https://www.dominiowebsemant.com/resource/Estacion/54405, Name: ALORA, Address: https://www.dominiowebsemant.com/resource/Direccion/54405, Address Name: CALLE ESTACION FERROCARRIL\n",
      "Station: https://www.dominiowebsemant.com/resource/Estacion/54406, Name: PIZARRA, Address: https://www.dominiowebsemant.com/resource/Direccion/54406, Address Name: PLAZA ESTACION FERROCARRIL\n",
      "Station: https://www.dominiowebsemant.com/resource/Estacion/54407, Name: ALJAIMA, Address: https://www.dominiowebsemant.com/resource/Direccion/54407, Address Name: CARRETERA A-7054 - ESTACION FERROCARRIL\n",
      "Station: https://www.dominiowebsemant.com/resource/Estacion/54408, Name: CARTAMA, Address: https://www.dominiowebsemant.com/resource/Direccion/54408, Address Name: BARRIADA GARCIA AGUA\n",
      "Station: https://www.dominiowebsemant.com/resource/Estacion/54410, Name: CAMPANILLAS, Address: https://www.dominiowebsemant.com/resource/Direccion/54410, Address Name: CALLE ALMENCINO - ESTACION FERROCARRIL\n",
      "Station: https://www.dominiowebsemant.com/resource/Estacion/54412, Name: LOS PRADOS, Address: https://www.dominiowebsemant.com/resource/Direccion/54412, Address Name: CALLE CAMINO PRADOS\n",
      "Station: https://www.dominiowebsemant.com/resource/Estacion/54413, Name: MALAGA MARIA ZAMBRANO, Address: https://www.dominiowebsemant.com/resource/Direccion/54413, Address Name: CALLE EXPLANADA DE LA ESTACION\n",
      "Station: https://www.dominiowebsemant.com/resource/Estacion/54501, Name: VICTORIA KENT, Address: https://www.dominiowebsemant.com/resource/Direccion/54501, Address Name: PLATERO FRANCISCO VAZQUEZ\n",
      "Station: https://www.dominiowebsemant.com/resource/Estacion/54503, Name: GUADALHORCE, Address: https://www.dominiowebsemant.com/resource/Direccion/54503, Address Name: CALLE CESAR VALLEJO - ESTACION FERROCARRIL\n",
      "Station: https://www.dominiowebsemant.com/resource/Estacion/54505, Name: AEROPUERTO, Address: https://www.dominiowebsemant.com/resource/Direccion/54505, Address Name: AVENIDA COMANDANTE GARCIA MORATO\n",
      "Station: https://www.dominiowebsemant.com/resource/Estacion/54508, Name: LA COLINA, Address: https://www.dominiowebsemant.com/resource/Direccion/54508, Address Name: URBANIZACION LA COLINA\n",
      "Station: https://www.dominiowebsemant.com/resource/Estacion/54509, Name: TORREMOLINOS, Address: https://www.dominiowebsemant.com/resource/Direccion/54509, Address Name: PLAZA DE LA NOGALERA\n",
      "Station: https://www.dominiowebsemant.com/resource/Estacion/54510, Name: EL PINILLO, Address: https://www.dominiowebsemant.com/resource/Direccion/54510, Address Name: DECANOM JUAN DE HOYOS\n",
      "Station: https://www.dominiowebsemant.com/resource/Estacion/54511, Name: BENALMADENA-ARROYO DE LA MIEL, Address: https://www.dominiowebsemant.com/resource/Direccion/54511, Address Name: AVENIDA DE LA ESTACION\n",
      "Station: https://www.dominiowebsemant.com/resource/Estacion/54512, Name: TORREMUELLE, Address: https://www.dominiowebsemant.com/resource/Direccion/54512, Address Name: URBANIZACION TORREMUELLE\n",
      "Station: https://www.dominiowebsemant.com/resource/Estacion/54513, Name: CARVAJAL, Address: https://www.dominiowebsemant.com/resource/Direccion/54513, Address Name: CALLE SIERRA DE CAZORLA\n",
      "Station: https://www.dominiowebsemant.com/resource/Estacion/54514, Name: TORREBLANCA, Address: https://www.dominiowebsemant.com/resource/Direccion/54514, Address Name: CALLE PUEBLA BLANCA\n",
      "Station: https://www.dominiowebsemant.com/resource/Estacion/54515, Name: LOS BOLICHES, Address: https://www.dominiowebsemant.com/resource/Direccion/54515, Address Name: AVENIDA DE LOS BOLICHES\n",
      "Station: https://www.dominiowebsemant.com/resource/Estacion/54516, Name: FUENGIROLA, Address: https://www.dominiowebsemant.com/resource/Direccion/54516, Address Name: AVENIDA JESUS SANTOS REIN\n",
      "Station: https://www.dominiowebsemant.com/resource/Estacion/54517, Name: MALAGA-CENTRO ALAMEDA, Address: https://www.dominiowebsemant.com/resource/Direccion/54517, Address Name: AVENIDA AURORA\n",
      "Station: https://www.dominiowebsemant.com/resource/Estacion/54518, Name: LOS ALAMOS, Address: https://www.dominiowebsemant.com/resource/Direccion/54518, Address Name: CALLE MENTON\n",
      "Station: https://www.dominiowebsemant.com/resource/Estacion/54519, Name: MONTEMAR ALTO, Address: https://www.dominiowebsemant.com/resource/Direccion/54519, Address Name: JACINTO MESA\n",
      "Station: https://www.dominiowebsemant.com/resource/Estacion/54520, Name: PLAZA MAYOR, Address: https://www.dominiowebsemant.com/resource/Direccion/54520, Address Name: CALLE ALFONSO PONCE DE LEON\n"
     ]
    }
   ],
   "source": [
    "# Query 3: Retrieve all stations and their associated addresses\n",
    "q3 = prepareQuery('''\n",
    "  SELECT ?station ?stationName ?address ?addressName\n",
    "  WHERE {\n",
    "    ?station a ns:Estación ;\n",
    "             ns:nombreEstacion ?stationName ;\n",
    "             ns:localizadoEn ?address .\n",
    "    ?address ns:nombreDireccion ?addressName .\n",
    "  }\n",
    "''', initNs={\"ns\": NS})\n",
    "\n",
    "print(\"\\nQuery 3: Retrieve all stations and their associated addresses\")\n",
    "for r in g.query(q3):\n",
    "    print(f\"Station: {r.station}, Name: {r.stationName}, Address: {r.address}, Address Name: {r.addressName}\")"
   ]
  },
  {
   "cell_type": "code",
   "execution_count": 34,
   "metadata": {},
   "outputs": [
    {
     "name": "stdout",
     "output_type": "stream",
     "text": [
      "\n",
      "Query 4: List all provinces and their populations\n",
      "Provincia: https://www.dominiowebsemant.com/resource/Provincia/%C3%81lora, Población: https://www.dominiowebsemant.com/resource/Poblacion/%C3%81lora\n",
      "Provincia: https://www.dominiowebsemant.com/resource/Provincia/Benalm%C3%A1dena, Población: https://www.dominiowebsemant.com/resource/Poblacion/Benalm%C3%A1dena\n",
      "Provincia: https://www.dominiowebsemant.com/resource/Provincia/C%C3%A1rtama, Población: https://www.dominiowebsemant.com/resource/Poblacion/C%C3%A1rtama\n",
      "Provincia: https://www.dominiowebsemant.com/resource/Provincia/Fuengirola, Población: https://www.dominiowebsemant.com/resource/Poblacion/Fuengirola\n",
      "Provincia: https://www.dominiowebsemant.com/resource/Provincia/M%C3%A1laga, Población: https://www.dominiowebsemant.com/resource/Poblacion/M%C3%A1laga\n",
      "Provincia: https://www.dominiowebsemant.com/resource/Provincia/Pizarra, Población: https://www.dominiowebsemant.com/resource/Poblacion/Pizarra\n",
      "Provincia: https://www.dominiowebsemant.com/resource/Provincia/Torremolinos, Población: https://www.dominiowebsemant.com/resource/Poblacion/Torremolinos\n"
     ]
    }
   ],
   "source": [
    "# Query 4: List all provinces and their populations\n",
    "q4 = prepareQuery('''\n",
    "  SELECT ?provincia ?poblacion\n",
    "  WHERE {\n",
    "    ?provincia a ns:Provincia .\n",
    "    ?poblacion a ns:Poblacion .\n",
    "    ?provincia ns:tienePoblacion ?poblacion .\n",
    "  }\n",
    "''', initNs={\"ns\": NS})\n",
    "\n",
    "print(\"\\nQuery 4: List all provinces and their populations\")\n",
    "for row in g.query(q4):\n",
    "    print(f\"Provincia: {row.provincia}, Población: {row.poblacion}\")"
   ]
  },
  {
   "cell_type": "code",
   "execution_count": 35,
   "metadata": {},
   "outputs": [
    {
     "name": "stdout",
     "output_type": "stream",
     "text": [
      "\n",
      "Query 5: Retrieve trip segments (tramos) with passenger data\n",
      "Segment: https://www.dominiowebsemant.com/resource/Tramo/AEROPUERTO_0000_0030, Interval: 00:00 - 00:30, Station: https://www.dominiowebsemant.com/resource/Estacion/54505, Subidos: 6, Bajados: 3\n",
      "Segment: https://www.dominiowebsemant.com/resource/Tramo/AEROPUERTO_0030_0100, Interval: 00:30 - 01:00, Station: https://www.dominiowebsemant.com/resource/Estacion/54505, Subidos: 5, Bajados: 2\n",
      "Segment: https://www.dominiowebsemant.com/resource/Tramo/AEROPUERTO_0530_0600, Interval: 05:30 - 06:00, Station: https://www.dominiowebsemant.com/resource/Estacion/54505, Subidos: 4, Bajados: 22\n",
      "Segment: https://www.dominiowebsemant.com/resource/Tramo/AEROPUERTO_0600_0630, Interval: 06:00 - 06:30, Station: https://www.dominiowebsemant.com/resource/Estacion/54505, Subidos: 0, Bajados: 22\n",
      "Segment: https://www.dominiowebsemant.com/resource/Tramo/AEROPUERTO_0630_0700, Interval: 06:30 - 07:00, Station: https://www.dominiowebsemant.com/resource/Estacion/54505, Subidos: 15, Bajados: 38\n",
      "Segment: https://www.dominiowebsemant.com/resource/Tramo/AEROPUERTO_0700_0730, Interval: 07:00 - 07:30, Station: https://www.dominiowebsemant.com/resource/Estacion/54505, Subidos: 4, Bajados: 50\n",
      "Segment: https://www.dominiowebsemant.com/resource/Tramo/AEROPUERTO_0730_0800, Interval: 07:30 - 08:00, Station: https://www.dominiowebsemant.com/resource/Estacion/54505, Subidos: 6, Bajados: 73\n",
      "Segment: https://www.dominiowebsemant.com/resource/Tramo/AEROPUERTO_0800_0830, Interval: 08:00 - 08:30, Station: https://www.dominiowebsemant.com/resource/Estacion/54505, Subidos: 13, Bajados: 84\n",
      "Segment: https://www.dominiowebsemant.com/resource/Tramo/AEROPUERTO_0830_0900, Interval: 08:30 - 09:00, Station: https://www.dominiowebsemant.com/resource/Estacion/54505, Subidos: 45, Bajados: 80\n",
      "Segment: https://www.dominiowebsemant.com/resource/Tramo/AEROPUERTO_0900_0930, Interval: 09:00 - 09:30, Station: https://www.dominiowebsemant.com/resource/Estacion/54505, Subidos: 86, Bajados: 72\n"
     ]
    }
   ],
   "source": [
    "# Query 5: Retrieve trip segments (tramos) with passenger data\n",
    "q5 = prepareQuery('''\n",
    "  SELECT ?segment ?interval ?station ?subidos ?bajados\n",
    "  WHERE {\n",
    "    ?segment a ns:Tramo ;\n",
    "    ns:intervalo ?interval ;\n",
    "    ns:tieneEstacion ?station ;\n",
    "    ns:viajerosSubidos ?subidos ;\n",
    "    ns:viajerosBajados ?bajados .\n",
    "  } LIMIT 10\n",
    "''', initNs={\"ns\": NS})\n",
    "\n",
    "print(\"\\nQuery 5: Retrieve trip segments (tramos) with passenger data\")\n",
    "for row in g.query(q5):\n",
    "    print(f\"Segment: {row.segment}, Interval: {row.interval}, Station: {row.station}, Subidos: {row.subidos}, Bajados: {row.bajados}\")"
   ]
  }
 ],
 "metadata": {
  "kernelspec": {
   "display_name": "Python 3",
   "language": "python",
   "name": "python3"
  },
  "language_info": {
   "codemirror_mode": {
    "name": "ipython",
    "version": 3
   },
   "file_extension": ".py",
   "mimetype": "text/x-python",
   "name": "python",
   "nbconvert_exporter": "python",
   "pygments_lexer": "ipython3",
   "version": "3.12.1"
  }
 },
 "nbformat": 4,
 "nbformat_minor": 2
}
